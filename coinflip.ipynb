{
 "cells": [
  {
   "cell_type": "code",
   "execution_count": 20,
   "id": "c25aaf82",
   "metadata": {},
   "outputs": [],
   "source": [
    "from qiskit import QuantumCircuit, QuantumRegister, ClassicalRegister, execute\n",
    "from qiskit import BasicAer"
   ]
  },
  {
   "cell_type": "code",
   "execution_count": 21,
   "id": "8249cfb6",
   "metadata": {},
   "outputs": [],
   "source": [
    "def flip_coin():\n",
    "    \n",
    "    q = QuantumRegister(1)\n",
    "\n",
    "    \n",
    "    c = ClassicalRegister(1)\n",
    "    \n",
    "    \n",
    "    circuit = QuantumCircuit(q, c)\n",
    "\n",
    "   \n",
    "    circuit.h(q[0])\n",
    "\n",
    "   \n",
    "    circuit.measure(q, c)\n",
    "\n",
    "    \n",
    "    job = execute(circuit, BasicAer.get_backend('qasm_simulator'), shots=1024)\n",
    "\n",
    "   \n",
    "    counts = job.result().get_counts()\n",
    "\n",
    "    if track:\n",
    "        print(counts)\n",
    "\n",
    "    try:\n",
    "        out = 0\n",
    "        counts['0']\n",
    "    except:\n",
    "        out = 1\n",
    "\n",
    "    return out"
   ]
  },
  {
   "cell_type": "code",
   "execution_count": 25,
   "id": "c77219e2",
   "metadata": {},
   "outputs": [
    {
     "name": "stdout",
     "output_type": "stream",
     "text": [
      "Heads: 2\n",
      "Tails: 0\n"
     ]
    }
   ],
   "source": [
    "track = False\n",
    "count_Head = 0\n",
    "count_Tail = 0\n",
    "for i in range(0,2):\n",
    "    bit = flip_coin()\n",
    "    if bit == 0:\n",
    "        count_Head += 1\n",
    "    else:\n",
    "        count_Tail += 1\n",
    "\n",
    "print(\"Heads: \" + str(count_Head))\n",
    "print(\"Tails: \" + str(count_Tail))"
   ]
  },
  {
   "cell_type": "code",
   "execution_count": null,
   "id": "877b072d",
   "metadata": {},
   "outputs": [],
   "source": []
  }
 ],
 "metadata": {
  "kernelspec": {
   "display_name": "Python 3 (ipykernel)",
   "language": "python",
   "name": "python3"
  },
  "language_info": {
   "codemirror_mode": {
    "name": "ipython",
    "version": 3
   },
   "file_extension": ".py",
   "mimetype": "text/x-python",
   "name": "python",
   "nbconvert_exporter": "python",
   "pygments_lexer": "ipython3",
   "version": "3.11.5"
  }
 },
 "nbformat": 4,
 "nbformat_minor": 5
}
